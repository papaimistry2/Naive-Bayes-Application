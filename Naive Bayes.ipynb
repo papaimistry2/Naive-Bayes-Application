{
 "cells": [
  {
   "cell_type": "code",
   "execution_count": 1,
   "id": "aab78873-6b7c-499e-9c67-ebe5bcf5f0b0",
   "metadata": {},
   "outputs": [],
   "source": [
    "import pandas as pd"
   ]
  },
  {
   "cell_type": "code",
   "execution_count": 4,
   "id": "23855511-47ee-4ae7-97d5-2838bfa7db2f",
   "metadata": {},
   "outputs": [
    {
     "name": "stdout",
     "output_type": "stream",
     "text": [
      "    Unnamed: 0   Outlook Temperature Humidity  Windy Play Golf\n",
      "0            0     Rainy         Hot     High  False        No\n",
      "1            1     Rainy         Hot     High   True        No\n",
      "2            2  Overcast         Hot     High  False       Yes\n",
      "3            3     Sunny        Mild     High  False       Yes\n",
      "4            4     Sunny        Cool   Normal  False       Yes\n",
      "5            5     Sunny        Cool   Normal   True        No\n",
      "6            6  Overcast        Cool   Normal   True       Yes\n",
      "7            7     Rainy        Mild     High  False        No\n",
      "8            8     Rainy        Cool   Normal  False       Yes\n",
      "9            9     Sunny        Mild   Normal  False       Yes\n",
      "10          10     Rainy        Mild   Normal   True       Yes\n",
      "11          11  Overcast        Mild     High   True       Yes\n",
      "12          12  Overcast         Hot   Normal  False       Yes\n",
      "13          13     Sunny        Mild     High   True        No\n"
     ]
    }
   ],
   "source": [
    "df = pd.read_csv(\"dataset_for_Naive_Bayes.csv\")\n",
    "print(df);"
   ]
  },
  {
   "cell_type": "code",
   "execution_count": 6,
   "id": "1b9fd240-356a-46fe-8e1a-119fa978d3a8",
   "metadata": {},
   "outputs": [
    {
     "data": {
      "text/plain": [
       "array([1, 0, 2])"
      ]
     },
     "execution_count": 6,
     "metadata": {},
     "output_type": "execute_result"
    }
   ],
   "source": [
    "from sklearn import preprocessing\n",
    "le=preprocessing.LabelEncoder()\n",
    "df['Outlook']=le.fit_transform(df['Outlook'])\n",
    "df['Outlook'].unique()"
   ]
  },
  {
   "cell_type": "code",
   "execution_count": 8,
   "id": "8aff08d9-f2e9-449b-9a3a-330a491ec4ca",
   "metadata": {},
   "outputs": [
    {
     "name": "stdout",
     "output_type": "stream",
     "text": [
      "0     1\n",
      "1     1\n",
      "2     0\n",
      "3     2\n",
      "4     2\n",
      "5     2\n",
      "6     0\n",
      "7     1\n",
      "8     1\n",
      "9     2\n",
      "10    1\n",
      "11    0\n",
      "12    0\n",
      "13    2\n",
      "Name: Outlook, dtype: int64\n"
     ]
    }
   ],
   "source": [
    "print(df['Outlook'])"
   ]
  },
  {
   "cell_type": "code",
   "execution_count": 9,
   "id": "e5a266ef-6e06-4deb-ab75-31eebce6e850",
   "metadata": {},
   "outputs": [
    {
     "name": "stdout",
     "output_type": "stream",
     "text": [
      "0     1\n",
      "1     1\n",
      "2     1\n",
      "3     2\n",
      "4     0\n",
      "5     0\n",
      "6     0\n",
      "7     2\n",
      "8     0\n",
      "9     2\n",
      "10    2\n",
      "11    2\n",
      "12    1\n",
      "13    2\n",
      "Name: Temperature, dtype: int64\n"
     ]
    }
   ],
   "source": [
    "df['Temperature']=le.fit_transform(df['Temperature'])\n",
    "df['Temperature'].unique()\n",
    "print(df['Temperature'])"
   ]
  },
  {
   "cell_type": "code",
   "execution_count": 10,
   "id": "a60285a0-b962-4f1f-8f18-121e9fb1a37f",
   "metadata": {},
   "outputs": [
    {
     "name": "stdout",
     "output_type": "stream",
     "text": [
      "0     0\n",
      "1     0\n",
      "2     0\n",
      "3     0\n",
      "4     1\n",
      "5     1\n",
      "6     1\n",
      "7     0\n",
      "8     1\n",
      "9     1\n",
      "10    1\n",
      "11    0\n",
      "12    1\n",
      "13    0\n",
      "Name: Humidity, dtype: int64\n"
     ]
    }
   ],
   "source": [
    "df['Humidity']=le.fit_transform(df['Humidity'])\n",
    "df['Humidity'].unique()\n",
    "print(df['Humidity'])"
   ]
  },
  {
   "cell_type": "code",
   "execution_count": 11,
   "id": "5137fed0-9286-4d75-9632-3f8ac61ef13b",
   "metadata": {},
   "outputs": [
    {
     "name": "stdout",
     "output_type": "stream",
     "text": [
      "0     0\n",
      "1     0\n",
      "2     1\n",
      "3     1\n",
      "4     1\n",
      "5     0\n",
      "6     1\n",
      "7     0\n",
      "8     1\n",
      "9     1\n",
      "10    1\n",
      "11    1\n",
      "12    1\n",
      "13    0\n",
      "Name: Play Golf, dtype: int64\n"
     ]
    }
   ],
   "source": [
    "df['Play Golf']=le.fit_transform(df['Play Golf'])\n",
    "df['Play Golf'].unique()\n",
    "print(df['Play Golf'])"
   ]
  },
  {
   "cell_type": "code",
   "execution_count": 13,
   "id": "7795f925-399c-444a-947e-29ae4f51de9e",
   "metadata": {},
   "outputs": [
    {
     "name": "stdout",
     "output_type": "stream",
     "text": [
      "0     0\n",
      "1     1\n",
      "2     0\n",
      "3     0\n",
      "4     0\n",
      "5     1\n",
      "6     1\n",
      "7     0\n",
      "8     0\n",
      "9     0\n",
      "10    1\n",
      "11    1\n",
      "12    0\n",
      "13    1\n",
      "Name: Windy, dtype: int64\n"
     ]
    }
   ],
   "source": [
    "df['Windy']=le.fit_transform(df['Windy'])\n",
    "df['Windy'].unique()\n",
    "print(df['Windy'])"
   ]
  },
  {
   "cell_type": "code",
   "execution_count": 14,
   "id": "cb590ac9-0818-4205-9d65-64386212e2b1",
   "metadata": {},
   "outputs": [
    {
     "name": "stdout",
     "output_type": "stream",
     "text": [
      "    Unnamed: 0  Outlook  Temperature  Humidity  Windy  Play Golf\n",
      "0            0        1            1         0      0          0\n",
      "1            1        1            1         0      1          0\n",
      "2            2        0            1         0      0          1\n",
      "3            3        2            2         0      0          1\n",
      "4            4        2            0         1      0          1\n",
      "5            5        2            0         1      1          0\n",
      "6            6        0            0         1      1          1\n",
      "7            7        1            2         0      0          0\n",
      "8            8        1            0         1      0          1\n",
      "9            9        2            2         1      0          1\n",
      "10          10        1            2         1      1          1\n",
      "11          11        0            2         0      1          1\n",
      "12          12        0            1         1      0          1\n",
      "13          13        2            2         0      1          0\n"
     ]
    }
   ],
   "source": [
    "print(df)"
   ]
  },
  {
   "cell_type": "code",
   "execution_count": 15,
   "id": "1d43f22c-103f-40aa-99de-11f37341b474",
   "metadata": {},
   "outputs": [],
   "source": [
    "df.to_csv('trans-df.csv')"
   ]
  },
  {
   "cell_type": "code",
   "execution_count": 17,
   "id": "a78e9e3f-e24e-4cd4-8fdf-36fcd016f7b0",
   "metadata": {},
   "outputs": [
    {
     "name": "stdout",
     "output_type": "stream",
     "text": [
      "[[ 0  1  1  0  0  0]\n",
      " [ 1  1  1  0  1  0]\n",
      " [ 2  0  1  0  0  1]\n",
      " [ 3  2  2  0  0  1]\n",
      " [ 4  2  0  1  0  1]\n",
      " [ 5  2  0  1  1  0]\n",
      " [ 6  0  0  1  1  1]\n",
      " [ 7  1  2  0  0  0]\n",
      " [ 8  1  0  1  0  1]\n",
      " [ 9  2  2  1  0  1]\n",
      " [10  1  2  1  1  1]\n",
      " [11  0  2  0  1  1]\n",
      " [12  0  1  1  0  1]\n",
      " [13  2  2  0  1  0]]\n"
     ]
    }
   ],
   "source": [
    "import numpy as np\n",
    "df1=np.array(df)\n",
    "print(df1)"
   ]
  },
  {
   "cell_type": "code",
   "execution_count": 22,
   "id": "853364dd-ee7c-453d-ad10-31c2694515b6",
   "metadata": {},
   "outputs": [
    {
     "name": "stdout",
     "output_type": "stream",
     "text": [
      "[[1 1 0 0 0]\n",
      " [1 1 0 1 0]\n",
      " [0 1 0 0 1]\n",
      " [2 2 0 0 1]\n",
      " [2 0 1 0 1]\n",
      " [2 0 1 1 0]\n",
      " [0 0 1 1 1]\n",
      " [1 2 0 0 0]\n",
      " [1 0 1 0 1]\n",
      " [2 2 1 0 1]\n",
      " [1 2 1 1 1]\n",
      " [0 2 0 1 1]\n",
      " [0 1 1 0 1]\n",
      " [2 2 0 1 0]]\n"
     ]
    }
   ],
   "source": [
    "df2=df1[:,1:6]\n",
    "print(df2)"
   ]
  },
  {
   "cell_type": "code",
   "execution_count": 23,
   "id": "3a34a46d-a18f-4085-bd3e-c7045f0aa04c",
   "metadata": {},
   "outputs": [],
   "source": [
    "X=df2[:,0:4]\n",
    "Y=df2[:,4]"
   ]
  },
  {
   "cell_type": "code",
   "execution_count": 30,
   "id": "d13bc1dc-9151-4711-a092-dd7b3fc70078",
   "metadata": {},
   "outputs": [],
   "source": [
    "from sklearn.model_selection import train_test_split\n",
    "X_train,X_test,Y_train,Y_test=train_test_split(X,Y,test_size=0.4,random_state=1)"
   ]
  },
  {
   "cell_type": "code",
   "execution_count": 31,
   "id": "95394933-b75c-4c5a-ad8c-e894c41ef245",
   "metadata": {},
   "outputs": [
    {
     "name": "stdout",
     "output_type": "stream",
     "text": [
      "[[1 1 0 1]\n",
      " [0 1 1 0]\n",
      " [1 1 0 0]\n",
      " [2 2 0 1]\n",
      " [2 2 1 0]\n",
      " [1 0 1 0]\n",
      " [0 2 0 1]\n",
      " [2 0 1 1]]\n"
     ]
    }
   ],
   "source": [
    "print(X_train)"
   ]
  },
  {
   "cell_type": "code",
   "execution_count": 32,
   "id": "7da7522a-e0e4-473a-ba61-e3e9f9674353",
   "metadata": {},
   "outputs": [
    {
     "name": "stdout",
     "output_type": "stream",
     "text": [
      "[0 1 0 0 1 1 1 0]\n"
     ]
    }
   ],
   "source": [
    "print(Y_train)"
   ]
  },
  {
   "cell_type": "code",
   "execution_count": 33,
   "id": "528c676e-337e-4078-b883-476e88083270",
   "metadata": {},
   "outputs": [
    {
     "name": "stdout",
     "output_type": "stream",
     "text": [
      "[[2 2 0 0]\n",
      " [1 2 0 0]\n",
      " [0 0 1 1]\n",
      " [0 1 0 0]\n",
      " [1 2 1 1]\n",
      " [2 0 1 0]]\n",
      "[1 0 1 1 1 1]\n"
     ]
    }
   ],
   "source": [
    "print(X_test)\n",
    "print(y_test)"
   ]
  },
  {
   "cell_type": "code",
   "execution_count": 34,
   "id": "299a9f6a-1f21-4100-b8ee-b6a3ad502b1f",
   "metadata": {},
   "outputs": [
    {
     "name": "stdout",
     "output_type": "stream",
     "text": [
      "Predicted class: [0 1 1 1 1 1]\n",
      "Gaussian Naive Bayes model accuracy(in %): 66.66666666666666\n"
     ]
    }
   ],
   "source": [
    "from sklearn.naive_bayes import GaussianNB\n",
    "from sklearn import metrics\n",
    "\n",
    "model=GaussianNB()\n",
    "model.fit(X_train,Y_train)\n",
    "\n",
    "y_prediction = model.predict(X_test)\n",
    "print(\"Predicted class:\", y_prediction)\n",
    "print(\"Gaussian Naive Bayes model accuracy(in %):\", metrics.accuracy_score(y_test, y_prediction)*100)"
   ]
  },
  {
   "cell_type": "code",
   "execution_count": 45,
   "id": "ae4b7f1d-c6d5-4d4c-927b-bd75cd5681ac",
   "metadata": {},
   "outputs": [
    {
     "name": "stdout",
     "output_type": "stream",
     "text": [
      "Predicted class: 1\n"
     ]
    }
   ],
   "source": [
    "#fro Sunny , Hot , Normal , False\n",
    "X1=np.array([[2, 1, 1, 0]])\n",
    "\n",
    "prediction = model.predict(X1)\n",
    "\n",
    "# 1 => Play Golf = \"Yes\"\n",
    "# 0 => Play Golf = \"No\"\n",
    "print(\"Predicted class:\", prediction[0])"
   ]
  },
  {
   "cell_type": "code",
   "execution_count": null,
   "id": "4f1cacc1-1b63-459a-affb-3888d80ff6a1",
   "metadata": {},
   "outputs": [],
   "source": []
  }
 ],
 "metadata": {
  "kernelspec": {
   "display_name": "Python 3 (ipykernel)",
   "language": "python",
   "name": "python3"
  },
  "language_info": {
   "codemirror_mode": {
    "name": "ipython",
    "version": 3
   },
   "file_extension": ".py",
   "mimetype": "text/x-python",
   "name": "python",
   "nbconvert_exporter": "python",
   "pygments_lexer": "ipython3",
   "version": "3.13.0"
  }
 },
 "nbformat": 4,
 "nbformat_minor": 5
}
